{
 "cells": [
  {
   "cell_type": "code",
   "execution_count": 13,
   "id": "fa28c9c2",
   "metadata": {},
   "outputs": [],
   "source": [
    "import nltk\n",
    "from nltk.tokenize import word_tokenize, sent_tokenize\n",
    "from nltk.corpus import stopwords\n",
    "from nltk.stem import WordNetLemmatizer\n"
   ]
  },
  {
   "cell_type": "code",
   "execution_count": 14,
   "id": "1f6755c3",
   "metadata": {},
   "outputs": [
    {
     "name": "stderr",
     "output_type": "stream",
     "text": [
      "[nltk_data] Downloading package punkt to C:\\Users\\RAJESH\n",
      "[nltk_data]     BURMAN\\AppData\\Roaming\\nltk_data...\n",
      "[nltk_data]   Unzipping tokenizers\\punkt.zip.\n",
      "[nltk_data] Downloading package stopwords to C:\\Users\\RAJESH\n",
      "[nltk_data]     BURMAN\\AppData\\Roaming\\nltk_data...\n",
      "[nltk_data]   Unzipping corpora\\stopwords.zip.\n",
      "[nltk_data] Downloading package wordnet to C:\\Users\\RAJESH\n",
      "[nltk_data]     BURMAN\\AppData\\Roaming\\nltk_data...\n"
     ]
    },
    {
     "data": {
      "text/plain": [
       "True"
      ]
     },
     "execution_count": 14,
     "metadata": {},
     "output_type": "execute_result"
    }
   ],
   "source": [
    "nltk.download('punkt')\n",
    "nltk.download('stopwords')\n",
    "nltk.download('wordnet')\n"
   ]
  },
  {
   "cell_type": "code",
   "execution_count": 15,
   "id": "36449950",
   "metadata": {},
   "outputs": [],
   "source": [
    "cv_text = \"\"\"\n",
    "\n",
    "B. Tech in Computer Science \n",
    "and Engineering \n",
    "Techno India University, West \n",
    "Bengal, CGPA 8.5(3rd year) \n",
    " B.S Data Science \n",
    " IIT Madras \n",
    "Projects: \n",
    " ANPR-FRS – i.e., Automatic number plate recognition \n",
    "and \n",
    "Face recognition system Me and my team builds the \n",
    "security-based system using simple based languages \n",
    "mainly backend. (Still working) \n",
    "Portfolio: Frontend using HTML and CSS\n",
    " Resume parser: using NLTK and words \n",
    " Single travel booking system: WEB APP (Still working) \n",
    "Skills\n",
    "Languages: C, C++, Python, JS,SQLDegree in data science \n",
    "HTML, CSS , applied mathematics\n",
    " Problem-solving, Project \n",
    "Management \n",
    "Important Links\n",
    "LinkedIn : \n",
    "https://www.linkedin.com/in/rajesh\u0002burman-574426280\n",
    " GitHub : \n",
    "https://github.com/RajMay\n",
    "Experience \n",
    "July 10 – August 20 \n",
    "Full Stack • Cod soft \n",
    "July 5 – August 10 \n",
    "Full Stack • Bharat Intern \n",
    "Communication \n",
    "Implemented new procedures and technologies that improved \n",
    "efficiency and streamlined operations. \n",
    "Leadership \n",
    "Successfully led a team in hackathon held at our college. \n",
    "And also represented from college. \n",
    "Coursework: \n",
    "Time management , workshop of AI in medicines , Coincent \n",
    "Live industrial program on trending technologies and \n",
    "development . \n",
    "\"\"\""
   ]
  },
  {
   "cell_type": "code",
   "execution_count": 16,
   "id": "20bdc166",
   "metadata": {},
   "outputs": [],
   "source": [
    "job_description = \"\"\"\n",
    "[0-3 years in Python, Spark, SQLDegree in data science, statistics, engineering, applied mathematics . Strength in code documentation Proficiency in Git and code versioning tools (Gitlab)Knowledge of statistics and machine learning]\n",
    "\"\"\"\n"
   ]
  },
  {
   "cell_type": "code",
   "execution_count": 17,
   "id": "69b91c60",
   "metadata": {},
   "outputs": [],
   "source": [
    "resume_tokens = word_tokenize(cv_text)\n",
    "resume_tokens = [token.lower() for token in resume_tokens if token.isalpha()]\n",
    "resume_tokens = [token for token in resume_tokens if token not in stopwords.words('english')]\n",
    "lemmatizer = WordNetLemmatizer()\n",
    "resume_tokens = [lemmatizer.lemmatize(token) for token in resume_tokens]\n"
   ]
  },
  {
   "cell_type": "code",
   "execution_count": 18,
   "id": "3fe774f1",
   "metadata": {},
   "outputs": [],
   "source": [
    "job_tokens = word_tokenize(job_description)\n",
    "job_tokens = [token.lower() for token in job_tokens if token.isalpha()]\n",
    "job_tokens = [token for token in job_tokens if token not in stopwords.words('english')]\n",
    "job_tokens = [lemmatizer.lemmatize(token) for token in job_tokens]\n"
   ]
  },
  {
   "cell_type": "code",
   "execution_count": 20,
   "id": "929d630a",
   "metadata": {},
   "outputs": [],
   "source": [
    "matching_keywords = set(resume_tokens) & set(job_tokens)"
   ]
  },
  {
   "cell_type": "code",
   "execution_count": 21,
   "id": "ef78ce12",
   "metadata": {},
   "outputs": [
    {
     "name": "stdout",
     "output_type": "stream",
     "text": [
      "Matching Keywords:\n",
      "science\n",
      "system\n",
      "experience\n",
      "computer\n",
      "engineering\n",
      "operation\n",
      "python\n",
      "year\n",
      "technology\n",
      "data\n"
     ]
    }
   ],
   "source": [
    "print(\"Matching Keywords:\")\n",
    "for keyword in matching_keywords:\n",
    "    print(keyword)"
   ]
  },
  {
   "cell_type": "code",
   "execution_count": null,
   "id": "ae91885c",
   "metadata": {},
   "outputs": [],
   "source": []
  }
 ],
 "metadata": {
  "kernelspec": {
   "display_name": "Python 3 (ipykernel)",
   "language": "python",
   "name": "python3"
  },
  "language_info": {
   "codemirror_mode": {
    "name": "ipython",
    "version": 3
   },
   "file_extension": ".py",
   "mimetype": "text/x-python",
   "name": "python",
   "nbconvert_exporter": "python",
   "pygments_lexer": "ipython3",
   "version": "3.11.3"
  }
 },
 "nbformat": 4,
 "nbformat_minor": 5
}
